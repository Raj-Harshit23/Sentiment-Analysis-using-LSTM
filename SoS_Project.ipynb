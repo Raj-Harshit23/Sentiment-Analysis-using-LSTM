{
  "nbformat": 4,
  "nbformat_minor": 0,
  "metadata": {
    "colab": {
      "provenance": [],
      "gpuType": "T4",
      "authorship_tag": "ABX9TyNEvDtvL9C828q2cFQ8RX4j"
    },
    "kernelspec": {
      "name": "python3",
      "display_name": "Python 3"
    },
    "language_info": {
      "name": "python"
    },
    "accelerator": "GPU"
  },
  "cells": [
    {
      "cell_type": "markdown",
      "source": [
        "**IMDB Movie Reviews using sentiment analysis**"
      ],
      "metadata": {
        "id": "CH9R6CaZEebG"
      }
    },
    {
      "cell_type": "code",
      "execution_count": 1,
      "metadata": {
        "id": "GuQLxrL65xIj"
      },
      "outputs": [],
      "source": [
        "import numpy as np\n",
        "import pandas as pd\n",
        "import nltk\n",
        "from nltk.corpus import stopwords\n",
        "from nltk.stem import PorterStemmer\n",
        "from gensim.models import Word2Vec\n",
        "from tensorflow.keras.preprocessing.sequence import pad_sequences\n",
        "from tensorflow.keras.models import Sequential\n",
        "from tensorflow.keras.layers import Embedding, LSTM, Dense\n",
        "from tensorflow.keras.preprocessing.text import Tokenizer\n",
        "from sklearn.model_selection import train_test_split"
      ]
    },
    {
      "cell_type": "code",
      "source": [
        "\n",
        "from google.colab import drive\n",
        "drive.mount('/content/drive')"
      ],
      "metadata": {
        "colab": {
          "base_uri": "https://localhost:8080/"
        },
        "id": "CxTYlFH-EYA-",
        "outputId": "cc60c10f-8840-4787-8acc-84b2ac89aa04"
      },
      "execution_count": 2,
      "outputs": [
        {
          "output_type": "stream",
          "name": "stdout",
          "text": [
            "Mounted at /content/drive\n"
          ]
        }
      ]
    },
    {
      "cell_type": "code",
      "source": [
        "#Lets load the dataset from drive (downloaded from Kaggle)\n",
        "df = pd.read_csv('/content/drive/MyDrive/Datasets/IMDB Dataset.csv')\n",
        "df"
      ],
      "metadata": {
        "colab": {
          "base_uri": "https://localhost:8080/",
          "height": 423
        },
        "id": "tXMioh3cE1et",
        "outputId": "8201e8e1-0193-4356-b50c-6853864d2fc4"
      },
      "execution_count": 3,
      "outputs": [
        {
          "output_type": "execute_result",
          "data": {
            "text/plain": [
              "                                                  review sentiment\n",
              "0      One of the other reviewers has mentioned that ...  positive\n",
              "1      A wonderful little production. <br /><br />The...  positive\n",
              "2      I thought this was a wonderful way to spend ti...  positive\n",
              "3      Basically there's a family where a little boy ...  negative\n",
              "4      Petter Mattei's \"Love in the Time of Money\" is...  positive\n",
              "...                                                  ...       ...\n",
              "49995  I thought this movie did a down right good job...  positive\n",
              "49996  Bad plot, bad dialogue, bad acting, idiotic di...  negative\n",
              "49997  I am a Catholic taught in parochial elementary...  negative\n",
              "49998  I'm going to have to disagree with the previou...  negative\n",
              "49999  No one expects the Star Trek movies to be high...  negative\n",
              "\n",
              "[50000 rows x 2 columns]"
            ],
            "text/html": [
              "\n",
              "  <div id=\"df-2035ffaf-ff46-4c71-9141-ed87ec992640\" class=\"colab-df-container\">\n",
              "    <div>\n",
              "<style scoped>\n",
              "    .dataframe tbody tr th:only-of-type {\n",
              "        vertical-align: middle;\n",
              "    }\n",
              "\n",
              "    .dataframe tbody tr th {\n",
              "        vertical-align: top;\n",
              "    }\n",
              "\n",
              "    .dataframe thead th {\n",
              "        text-align: right;\n",
              "    }\n",
              "</style>\n",
              "<table border=\"1\" class=\"dataframe\">\n",
              "  <thead>\n",
              "    <tr style=\"text-align: right;\">\n",
              "      <th></th>\n",
              "      <th>review</th>\n",
              "      <th>sentiment</th>\n",
              "    </tr>\n",
              "  </thead>\n",
              "  <tbody>\n",
              "    <tr>\n",
              "      <th>0</th>\n",
              "      <td>One of the other reviewers has mentioned that ...</td>\n",
              "      <td>positive</td>\n",
              "    </tr>\n",
              "    <tr>\n",
              "      <th>1</th>\n",
              "      <td>A wonderful little production. &lt;br /&gt;&lt;br /&gt;The...</td>\n",
              "      <td>positive</td>\n",
              "    </tr>\n",
              "    <tr>\n",
              "      <th>2</th>\n",
              "      <td>I thought this was a wonderful way to spend ti...</td>\n",
              "      <td>positive</td>\n",
              "    </tr>\n",
              "    <tr>\n",
              "      <th>3</th>\n",
              "      <td>Basically there's a family where a little boy ...</td>\n",
              "      <td>negative</td>\n",
              "    </tr>\n",
              "    <tr>\n",
              "      <th>4</th>\n",
              "      <td>Petter Mattei's \"Love in the Time of Money\" is...</td>\n",
              "      <td>positive</td>\n",
              "    </tr>\n",
              "    <tr>\n",
              "      <th>...</th>\n",
              "      <td>...</td>\n",
              "      <td>...</td>\n",
              "    </tr>\n",
              "    <tr>\n",
              "      <th>49995</th>\n",
              "      <td>I thought this movie did a down right good job...</td>\n",
              "      <td>positive</td>\n",
              "    </tr>\n",
              "    <tr>\n",
              "      <th>49996</th>\n",
              "      <td>Bad plot, bad dialogue, bad acting, idiotic di...</td>\n",
              "      <td>negative</td>\n",
              "    </tr>\n",
              "    <tr>\n",
              "      <th>49997</th>\n",
              "      <td>I am a Catholic taught in parochial elementary...</td>\n",
              "      <td>negative</td>\n",
              "    </tr>\n",
              "    <tr>\n",
              "      <th>49998</th>\n",
              "      <td>I'm going to have to disagree with the previou...</td>\n",
              "      <td>negative</td>\n",
              "    </tr>\n",
              "    <tr>\n",
              "      <th>49999</th>\n",
              "      <td>No one expects the Star Trek movies to be high...</td>\n",
              "      <td>negative</td>\n",
              "    </tr>\n",
              "  </tbody>\n",
              "</table>\n",
              "<p>50000 rows × 2 columns</p>\n",
              "</div>\n",
              "    <div class=\"colab-df-buttons\">\n",
              "\n",
              "  <div class=\"colab-df-container\">\n",
              "    <button class=\"colab-df-convert\" onclick=\"convertToInteractive('df-2035ffaf-ff46-4c71-9141-ed87ec992640')\"\n",
              "            title=\"Convert this dataframe to an interactive table.\"\n",
              "            style=\"display:none;\">\n",
              "\n",
              "  <svg xmlns=\"http://www.w3.org/2000/svg\" height=\"24px\" viewBox=\"0 -960 960 960\">\n",
              "    <path d=\"M120-120v-720h720v720H120Zm60-500h600v-160H180v160Zm220 220h160v-160H400v160Zm0 220h160v-160H400v160ZM180-400h160v-160H180v160Zm440 0h160v-160H620v160ZM180-180h160v-160H180v160Zm440 0h160v-160H620v160Z\"/>\n",
              "  </svg>\n",
              "    </button>\n",
              "\n",
              "  <style>\n",
              "    .colab-df-container {\n",
              "      display:flex;\n",
              "      gap: 12px;\n",
              "    }\n",
              "\n",
              "    .colab-df-convert {\n",
              "      background-color: #E8F0FE;\n",
              "      border: none;\n",
              "      border-radius: 50%;\n",
              "      cursor: pointer;\n",
              "      display: none;\n",
              "      fill: #1967D2;\n",
              "      height: 32px;\n",
              "      padding: 0 0 0 0;\n",
              "      width: 32px;\n",
              "    }\n",
              "\n",
              "    .colab-df-convert:hover {\n",
              "      background-color: #E2EBFA;\n",
              "      box-shadow: 0px 1px 2px rgba(60, 64, 67, 0.3), 0px 1px 3px 1px rgba(60, 64, 67, 0.15);\n",
              "      fill: #174EA6;\n",
              "    }\n",
              "\n",
              "    .colab-df-buttons div {\n",
              "      margin-bottom: 4px;\n",
              "    }\n",
              "\n",
              "    [theme=dark] .colab-df-convert {\n",
              "      background-color: #3B4455;\n",
              "      fill: #D2E3FC;\n",
              "    }\n",
              "\n",
              "    [theme=dark] .colab-df-convert:hover {\n",
              "      background-color: #434B5C;\n",
              "      box-shadow: 0px 1px 3px 1px rgba(0, 0, 0, 0.15);\n",
              "      filter: drop-shadow(0px 1px 2px rgba(0, 0, 0, 0.3));\n",
              "      fill: #FFFFFF;\n",
              "    }\n",
              "  </style>\n",
              "\n",
              "    <script>\n",
              "      const buttonEl =\n",
              "        document.querySelector('#df-2035ffaf-ff46-4c71-9141-ed87ec992640 button.colab-df-convert');\n",
              "      buttonEl.style.display =\n",
              "        google.colab.kernel.accessAllowed ? 'block' : 'none';\n",
              "\n",
              "      async function convertToInteractive(key) {\n",
              "        const element = document.querySelector('#df-2035ffaf-ff46-4c71-9141-ed87ec992640');\n",
              "        const dataTable =\n",
              "          await google.colab.kernel.invokeFunction('convertToInteractive',\n",
              "                                                    [key], {});\n",
              "        if (!dataTable) return;\n",
              "\n",
              "        const docLinkHtml = 'Like what you see? Visit the ' +\n",
              "          '<a target=\"_blank\" href=https://colab.research.google.com/notebooks/data_table.ipynb>data table notebook</a>'\n",
              "          + ' to learn more about interactive tables.';\n",
              "        element.innerHTML = '';\n",
              "        dataTable['output_type'] = 'display_data';\n",
              "        await google.colab.output.renderOutput(dataTable, element);\n",
              "        const docLink = document.createElement('div');\n",
              "        docLink.innerHTML = docLinkHtml;\n",
              "        element.appendChild(docLink);\n",
              "      }\n",
              "    </script>\n",
              "  </div>\n",
              "\n",
              "\n",
              "<div id=\"df-f3e24c5a-6a3a-4843-80bc-ec1cca49c30d\">\n",
              "  <button class=\"colab-df-quickchart\" onclick=\"quickchart('df-f3e24c5a-6a3a-4843-80bc-ec1cca49c30d')\"\n",
              "            title=\"Suggest charts\"\n",
              "            style=\"display:none;\">\n",
              "\n",
              "<svg xmlns=\"http://www.w3.org/2000/svg\" height=\"24px\"viewBox=\"0 0 24 24\"\n",
              "     width=\"24px\">\n",
              "    <g>\n",
              "        <path d=\"M19 3H5c-1.1 0-2 .9-2 2v14c0 1.1.9 2 2 2h14c1.1 0 2-.9 2-2V5c0-1.1-.9-2-2-2zM9 17H7v-7h2v7zm4 0h-2V7h2v10zm4 0h-2v-4h2v4z\"/>\n",
              "    </g>\n",
              "</svg>\n",
              "  </button>\n",
              "\n",
              "<style>\n",
              "  .colab-df-quickchart {\n",
              "      --bg-color: #E8F0FE;\n",
              "      --fill-color: #1967D2;\n",
              "      --hover-bg-color: #E2EBFA;\n",
              "      --hover-fill-color: #174EA6;\n",
              "      --disabled-fill-color: #AAA;\n",
              "      --disabled-bg-color: #DDD;\n",
              "  }\n",
              "\n",
              "  [theme=dark] .colab-df-quickchart {\n",
              "      --bg-color: #3B4455;\n",
              "      --fill-color: #D2E3FC;\n",
              "      --hover-bg-color: #434B5C;\n",
              "      --hover-fill-color: #FFFFFF;\n",
              "      --disabled-bg-color: #3B4455;\n",
              "      --disabled-fill-color: #666;\n",
              "  }\n",
              "\n",
              "  .colab-df-quickchart {\n",
              "    background-color: var(--bg-color);\n",
              "    border: none;\n",
              "    border-radius: 50%;\n",
              "    cursor: pointer;\n",
              "    display: none;\n",
              "    fill: var(--fill-color);\n",
              "    height: 32px;\n",
              "    padding: 0;\n",
              "    width: 32px;\n",
              "  }\n",
              "\n",
              "  .colab-df-quickchart:hover {\n",
              "    background-color: var(--hover-bg-color);\n",
              "    box-shadow: 0 1px 2px rgba(60, 64, 67, 0.3), 0 1px 3px 1px rgba(60, 64, 67, 0.15);\n",
              "    fill: var(--button-hover-fill-color);\n",
              "  }\n",
              "\n",
              "  .colab-df-quickchart-complete:disabled,\n",
              "  .colab-df-quickchart-complete:disabled:hover {\n",
              "    background-color: var(--disabled-bg-color);\n",
              "    fill: var(--disabled-fill-color);\n",
              "    box-shadow: none;\n",
              "  }\n",
              "\n",
              "  .colab-df-spinner {\n",
              "    border: 2px solid var(--fill-color);\n",
              "    border-color: transparent;\n",
              "    border-bottom-color: var(--fill-color);\n",
              "    animation:\n",
              "      spin 1s steps(1) infinite;\n",
              "  }\n",
              "\n",
              "  @keyframes spin {\n",
              "    0% {\n",
              "      border-color: transparent;\n",
              "      border-bottom-color: var(--fill-color);\n",
              "      border-left-color: var(--fill-color);\n",
              "    }\n",
              "    20% {\n",
              "      border-color: transparent;\n",
              "      border-left-color: var(--fill-color);\n",
              "      border-top-color: var(--fill-color);\n",
              "    }\n",
              "    30% {\n",
              "      border-color: transparent;\n",
              "      border-left-color: var(--fill-color);\n",
              "      border-top-color: var(--fill-color);\n",
              "      border-right-color: var(--fill-color);\n",
              "    }\n",
              "    40% {\n",
              "      border-color: transparent;\n",
              "      border-right-color: var(--fill-color);\n",
              "      border-top-color: var(--fill-color);\n",
              "    }\n",
              "    60% {\n",
              "      border-color: transparent;\n",
              "      border-right-color: var(--fill-color);\n",
              "    }\n",
              "    80% {\n",
              "      border-color: transparent;\n",
              "      border-right-color: var(--fill-color);\n",
              "      border-bottom-color: var(--fill-color);\n",
              "    }\n",
              "    90% {\n",
              "      border-color: transparent;\n",
              "      border-bottom-color: var(--fill-color);\n",
              "    }\n",
              "  }\n",
              "</style>\n",
              "\n",
              "  <script>\n",
              "    async function quickchart(key) {\n",
              "      const quickchartButtonEl =\n",
              "        document.querySelector('#' + key + ' button');\n",
              "      quickchartButtonEl.disabled = true;  // To prevent multiple clicks.\n",
              "      quickchartButtonEl.classList.add('colab-df-spinner');\n",
              "      try {\n",
              "        const charts = await google.colab.kernel.invokeFunction(\n",
              "            'suggestCharts', [key], {});\n",
              "      } catch (error) {\n",
              "        console.error('Error during call to suggestCharts:', error);\n",
              "      }\n",
              "      quickchartButtonEl.classList.remove('colab-df-spinner');\n",
              "      quickchartButtonEl.classList.add('colab-df-quickchart-complete');\n",
              "    }\n",
              "    (() => {\n",
              "      let quickchartButtonEl =\n",
              "        document.querySelector('#df-f3e24c5a-6a3a-4843-80bc-ec1cca49c30d button');\n",
              "      quickchartButtonEl.style.display =\n",
              "        google.colab.kernel.accessAllowed ? 'block' : 'none';\n",
              "    })();\n",
              "  </script>\n",
              "</div>\n",
              "\n",
              "  <div id=\"id_b9531f35-6bc6-4985-967e-26788fe9db46\">\n",
              "    <style>\n",
              "      .colab-df-generate {\n",
              "        background-color: #E8F0FE;\n",
              "        border: none;\n",
              "        border-radius: 50%;\n",
              "        cursor: pointer;\n",
              "        display: none;\n",
              "        fill: #1967D2;\n",
              "        height: 32px;\n",
              "        padding: 0 0 0 0;\n",
              "        width: 32px;\n",
              "      }\n",
              "\n",
              "      .colab-df-generate:hover {\n",
              "        background-color: #E2EBFA;\n",
              "        box-shadow: 0px 1px 2px rgba(60, 64, 67, 0.3), 0px 1px 3px 1px rgba(60, 64, 67, 0.15);\n",
              "        fill: #174EA6;\n",
              "      }\n",
              "\n",
              "      [theme=dark] .colab-df-generate {\n",
              "        background-color: #3B4455;\n",
              "        fill: #D2E3FC;\n",
              "      }\n",
              "\n",
              "      [theme=dark] .colab-df-generate:hover {\n",
              "        background-color: #434B5C;\n",
              "        box-shadow: 0px 1px 3px 1px rgba(0, 0, 0, 0.15);\n",
              "        filter: drop-shadow(0px 1px 2px rgba(0, 0, 0, 0.3));\n",
              "        fill: #FFFFFF;\n",
              "      }\n",
              "    </style>\n",
              "    <button class=\"colab-df-generate\" onclick=\"generateWithVariable('df')\"\n",
              "            title=\"Generate code using this dataframe.\"\n",
              "            style=\"display:none;\">\n",
              "\n",
              "  <svg xmlns=\"http://www.w3.org/2000/svg\" height=\"24px\"viewBox=\"0 0 24 24\"\n",
              "       width=\"24px\">\n",
              "    <path d=\"M7,19H8.4L18.45,9,17,7.55,7,17.6ZM5,21V16.75L18.45,3.32a2,2,0,0,1,2.83,0l1.4,1.43a1.91,1.91,0,0,1,.58,1.4,1.91,1.91,0,0,1-.58,1.4L9.25,21ZM18.45,9,17,7.55Zm-12,3A5.31,5.31,0,0,0,4.9,8.1,5.31,5.31,0,0,0,1,6.5,5.31,5.31,0,0,0,4.9,4.9,5.31,5.31,0,0,0,6.5,1,5.31,5.31,0,0,0,8.1,4.9,5.31,5.31,0,0,0,12,6.5,5.46,5.46,0,0,0,6.5,12Z\"/>\n",
              "  </svg>\n",
              "    </button>\n",
              "    <script>\n",
              "      (() => {\n",
              "      const buttonEl =\n",
              "        document.querySelector('#id_b9531f35-6bc6-4985-967e-26788fe9db46 button.colab-df-generate');\n",
              "      buttonEl.style.display =\n",
              "        google.colab.kernel.accessAllowed ? 'block' : 'none';\n",
              "\n",
              "      buttonEl.onclick = () => {\n",
              "        google.colab.notebook.generateWithVariable('df');\n",
              "      }\n",
              "      })();\n",
              "    </script>\n",
              "  </div>\n",
              "\n",
              "    </div>\n",
              "  </div>\n"
            ],
            "application/vnd.google.colaboratory.intrinsic+json": {
              "type": "dataframe",
              "variable_name": "df",
              "summary": "{\n  \"name\": \"df\",\n  \"rows\": 50000,\n  \"fields\": [\n    {\n      \"column\": \"review\",\n      \"properties\": {\n        \"dtype\": \"string\",\n        \"num_unique_values\": 49582,\n        \"samples\": [\n          \"\\\"Soul Plane\\\" is a horrible attempt at comedy that only should appeal people with thick skulls, bloodshot eyes and furry pawns. <br /><br />The plot is not only incoherent but also non-existent, acting is mostly sub sub-par with a gang of highly moronic and dreadful characters thrown in for bad measure, jokes are often spotted miles ahead and almost never even a bit amusing. This movie lacks any structure and is full of racial stereotypes that must have seemed old even in the fifties, the only thing it really has going for it is some pretty ladies, but really, if you want that you can rent something from the \\\"Adult\\\" section. OK?<br /><br />I can hardly see anything here to recommend since you'll probably have a lot a better and productive time chasing rats with a sledgehammer or inventing waterproof teabags or whatever.<br /><br />2/10\",\n          \"Guest from the Future tells a fascinating story of time travel, friendship, battle of good and evil -- all with a small budget, child actors, and few special effects. Something for Spielberg and Lucas to learn from. ;) A sixth-grader Kolya \\\"Nick\\\" Gerasimov finds a time machine in the basement of a decrepit building and travels 100 years into the future. He discovers a near-perfect, utopian society where robots play guitars and write poetry, everyone is kind to each other and people enjoy everything technology has to offer. Alice is the daughter of a prominent scientist who invented a device called Mielophone that allows to read minds of humans and animals. The device can be put to both good and bad use, depending on whose hands it falls into. When two evil space pirates from Saturn who want to rule the universe attempt to steal Mielophone, it falls into the hands of 20th century school boy Nick. With the pirates hot on his tracks, he travels back to his time, followed by the pirates, and Alice. Chaos, confusion and funny situations follow as the luckless pirates try to blend in with the earthlings. Alice enrolls in the same school Nick goes to and demonstrates superhuman abilities in PE class. The catch is, Alice doesn't know what Nick looks like, while the pirates do. Also, the pirates are able to change their appearance and turn literally into anyone. (Hmm, I wonder if this is where James Cameron got the idea for Terminator...) Who gets to Nick -- and Mielophone -- first? Excellent plot, non-stop adventures, and great soundtrack. I wish Hollywood made kid movies like this one...\",\n          \"\\\"National Treasure\\\" (2004) is a thoroughly misguided hodge-podge of plot entanglements that borrow from nearly every cloak and dagger government conspiracy clich\\u00e9 that has ever been written. The film stars Nicholas Cage as Benjamin Franklin Gates (how precious is that, I ask you?); a seemingly normal fellow who, for no other reason than being of a lineage of like-minded misguided fortune hunters, decides to steal a 'national treasure' that has been hidden by the United States founding fathers. After a bit of subtext and background that plays laughably (unintentionally) like Indiana Jones meets The Patriot, the film degenerates into one misguided whimsy after another \\u0096 attempting to create a 'Stanley Goodspeed' regurgitation of Nicholas Cage and launch the whole convoluted mess forward with a series of high octane, but disconnected misadventures.<br /><br />The relevancy and logic to having George Washington and his motley crew of patriots burying a king's ransom someplace on native soil, and then, going through the meticulous plan of leaving clues scattered throughout U.S. currency art work, is something that director Jon Turteltaub never quite gets around to explaining. Couldn't Washington found better usage for such wealth during the start up of the country? Hence, we are left with a mystery built on top of an enigma that is already on shaky ground by the time Ben appoints himself the new custodian of this untold wealth. Ben's intentions are noble \\u0096 if confusing. He's set on protecting the treasure. For who and when?\\u0085your guess is as good as mine.<br /><br />But there are a few problems with Ben's crusade. First up, his friend, Ian Holmes (Sean Bean) decides that he can't wait for Ben to make up his mind about stealing the Declaration of Independence from the National Archives (oh, yeah \\u0096 brilliant idea!). Presumably, the back of that famous document holds the secret answer to the ultimate fortune. So Ian tries to kill Ben. The assassination attempt is, of course, unsuccessful, if overly melodramatic. It also affords Ben the opportunity to pick up, and pick on, the very sultry curator of the archives, Abigail Chase (Diane Kruger). She thinks Ben is clearly a nut \\u0096 at least at the beginning. But true to action/romance form, Abby's resolve melts quicker than you can say, \\\"is that the Hope Diamond?\\\" The film moves into full X-File-ish mode, as the FBI, mistakenly believing that Ben is behind the theft, retaliate in various benign ways that lead to a multi-layering of action sequences reminiscent of Mission Impossible meets The Fugitive. Honestly, don't those guys ever get 'intelligence' information that is correct? In the final analysis, \\\"National Treasure\\\" isn't great film making, so much as it's a patchwork rehash of tired old bits from other movies, woven together from scraps, the likes of which would make IL' Betsy Ross blush.<br /><br />The Buena Vista DVD delivers a far more generous treatment than this film is deserving of. The anamorphic widescreen picture exhibits a very smooth and finely detailed image with very rich colors, natural flesh tones, solid blacks and clean whites. The stylized image is also free of blemishes and digital enhancements. The audio is 5.1 and delivers a nice sonic boom to your side and rear speakers with intensity and realism. Extras include a host of promotional junket material that is rather deep and over the top in its explanation of how and why this film was made. If only, as an audience, we had had more clarification as to why Ben and co. were chasing after an illusive treasure, this might have been one good flick. Extras conclude with the theatrical trailer, audio commentary and deleted scenes. Not for the faint-hearted \\u0096 just the thick-headed.\"\n        ],\n        \"semantic_type\": \"\",\n        \"description\": \"\"\n      }\n    },\n    {\n      \"column\": \"sentiment\",\n      \"properties\": {\n        \"dtype\": \"category\",\n        \"num_unique_values\": 2,\n        \"samples\": [\n          \"negative\",\n          \"positive\"\n        ],\n        \"semantic_type\": \"\",\n        \"description\": \"\"\n      }\n    }\n  ]\n}"
            }
          },
          "metadata": {},
          "execution_count": 3
        }
      ]
    },
    {
      "cell_type": "code",
      "source": [
        "reviews = df['review']\n",
        "reviews = reviews.replace({'<.*?>': ''}, regex = True)          # remove html tag\n",
        "sentiments = df['sentiment']\n",
        "sentiment_mapping = {'positive': 1, 'negative': 0}\n",
        "#Converting sentiment into numeric form\n",
        "sentiments_encoded = sentiments.map(sentiment_mapping)\n",
        "# print(reviews)\n",
        "# print(sentiments_encoded)"
      ],
      "metadata": {
        "id": "IUAHOb20FzB-"
      },
      "execution_count": 4,
      "outputs": []
    },
    {
      "cell_type": "code",
      "source": [
        "##Preprocessing by stemming\n",
        "stemmer = PorterStemmer()\n",
        "nltk.download('punkt')\n",
        "def preprocess_text(text):\n",
        "    tokens = nltk.word_tokenize(text.lower())\n",
        "    tokens = [stemmer.stem(token) for token in tokens]\n",
        "    return ' '.join(tokens)\n",
        "\n",
        "#Example\n",
        "print(preprocess_text(\"This is an example sentence.\"))"
      ],
      "metadata": {
        "colab": {
          "base_uri": "https://localhost:8080/"
        },
        "id": "o01CwJYUZW5F",
        "outputId": "4a20fda2-e4fb-4f28-f557-1d282dd395e3"
      },
      "execution_count": 6,
      "outputs": [
        {
          "output_type": "stream",
          "name": "stderr",
          "text": [
            "[nltk_data] Downloading package punkt to /root/nltk_data...\n",
            "[nltk_data]   Unzipping tokenizers/punkt.zip.\n"
          ]
        },
        {
          "output_type": "stream",
          "name": "stdout",
          "text": [
            "thi is an exampl sentenc .\n"
          ]
        }
      ]
    },
    {
      "cell_type": "code",
      "source": [
        "#Process the reviews\n",
        "preprocessed_reviews = [preprocess_text(review) for review in reviews]"
      ],
      "metadata": {
        "id": "wOUL_0Lhh8N5"
      },
      "execution_count": 7,
      "outputs": []
    },
    {
      "cell_type": "code",
      "source": [
        "#Lets now bring the data\n",
        "X_train, X_test, y_train, y_test = train_test_split(preprocessed_reviews, sentiments_encoded, test_size=0.2, random_state=42)"
      ],
      "metadata": {
        "id": "ittM6Z4xfsgX"
      },
      "execution_count": 8,
      "outputs": []
    },
    {
      "cell_type": "code",
      "source": [
        "#Now Tokenize and vectorize training text to do embedding\n",
        "tokenizer = Tokenizer(oov_token='<OOV>')\n",
        "max_sequence_length = 200\n",
        "tokenizer.fit_on_texts(X_train)\n",
        "\n",
        "X_train_sequences = tokenizer.texts_to_sequences(X_train)\n",
        "X_test_sequences = tokenizer.texts_to_sequences(X_test)\n",
        "\n",
        "X_train_padded = pad_sequences(X_train_sequences, maxlen=max_sequence_length)\n",
        "X_test_padded = pad_sequences(X_test_sequences, maxlen=max_sequence_length)\n"
      ],
      "metadata": {
        "id": "HHHS8E11al5n"
      },
      "execution_count": 9,
      "outputs": []
    },
    {
      "cell_type": "code",
      "source": [
        "#Embedding\n",
        "embedding_dim = 100\n",
        "embedding_layer = Embedding(input_dim=len(tokenizer.word_index) + 1, output_dim=embedding_dim, input_length=max_sequence_length)\n",
        "sentences = [review.split() for review in X_train]\n",
        "word2vec_model = Word2Vec(sentences, vector_size=embedding_dim, window=5, min_count=1, workers=4)\n",
        "\n",
        "word_index = tokenizer.word_index\n",
        "embedding_matrix = np.zeros((len(word_index) + 1, embedding_dim))\n",
        "for word, i in word_index.items():\n",
        "    if word in word2vec_model.wv:\n",
        "        embedding_matrix[i] = word2vec_model.wv[word]\n"
      ],
      "metadata": {
        "id": "ACJpptrba1tQ"
      },
      "execution_count": 10,
      "outputs": []
    },
    {
      "cell_type": "code",
      "source": [
        "def train_model(epochs, batch_size,lstm_units):\n",
        "  # Build the LSTM model\n",
        "  model = Sequential()\n",
        "  model.add(Embedding(input_dim=len(word_index) + 1, output_dim=embedding_dim, weights=[embedding_matrix], input_length=max_sequence_length, trainable=False))\n",
        "  model.add(LSTM(lstm_units))\n",
        "  model.add(Dense(1, activation='sigmoid'))\n",
        "\n",
        "  # Compile the model\n",
        "  model.compile(loss='binary_crossentropy', optimizer='adam', metrics=['accuracy'])\n",
        "\n",
        "  # Train the model\n",
        "  history=model.fit(X_train_padded, y_train, epochs=epochs, batch_size=batch_size, validation_split=0.2,verbose=1)\n",
        "  return model,history"
      ],
      "metadata": {
        "id": "iOHn9f4gjR5A"
      },
      "execution_count": 71,
      "outputs": []
    },
    {
      "cell_type": "code",
      "source": [
        "model,history= train_model(epochs=10, batch_size=32,lstm_units=128)"
      ],
      "metadata": {
        "colab": {
          "base_uri": "https://localhost:8080/"
        },
        "id": "6hHnnG8okCIF",
        "outputId": "d29644d7-434b-45ab-d5d1-c7c6803c5f00"
      },
      "execution_count": 72,
      "outputs": [
        {
          "output_type": "stream",
          "name": "stdout",
          "text": [
            "Epoch 1/10\n",
            "1000/1000 [==============================] - 12s 11ms/step - loss: 0.4426 - accuracy: 0.7918 - val_loss: 0.3099 - val_accuracy: 0.8662\n",
            "Epoch 2/10\n",
            "1000/1000 [==============================] - 10s 10ms/step - loss: 0.2835 - accuracy: 0.8838 - val_loss: 0.2665 - val_accuracy: 0.8895\n",
            "Epoch 3/10\n",
            "1000/1000 [==============================] - 11s 11ms/step - loss: 0.2423 - accuracy: 0.9014 - val_loss: 0.2704 - val_accuracy: 0.8881\n",
            "Epoch 4/10\n",
            "1000/1000 [==============================] - 11s 11ms/step - loss: 0.2046 - accuracy: 0.9197 - val_loss: 0.2590 - val_accuracy: 0.8926\n",
            "Epoch 5/10\n",
            "1000/1000 [==============================] - 10s 10ms/step - loss: 0.1741 - accuracy: 0.9321 - val_loss: 0.2794 - val_accuracy: 0.8864\n",
            "Epoch 6/10\n",
            "1000/1000 [==============================] - 10s 10ms/step - loss: 0.1341 - accuracy: 0.9498 - val_loss: 0.2824 - val_accuracy: 0.8925\n",
            "Epoch 7/10\n",
            "1000/1000 [==============================] - 11s 11ms/step - loss: 0.0979 - accuracy: 0.9643 - val_loss: 0.3038 - val_accuracy: 0.8916\n",
            "Epoch 8/10\n",
            "1000/1000 [==============================] - 11s 11ms/step - loss: 0.0692 - accuracy: 0.9761 - val_loss: 0.3316 - val_accuracy: 0.8946\n",
            "Epoch 9/10\n",
            "1000/1000 [==============================] - 10s 10ms/step - loss: 0.0443 - accuracy: 0.9866 - val_loss: 0.3902 - val_accuracy: 0.8907\n",
            "Epoch 10/10\n",
            "1000/1000 [==============================] - 10s 10ms/step - loss: 0.0377 - accuracy: 0.9880 - val_loss: 0.3987 - val_accuracy: 0.8849\n"
          ]
        }
      ]
    },
    {
      "cell_type": "code",
      "source": [
        "#Lets now check the model accuracy on test data\n",
        "loss, accuracy = model.evaluate(X_test_padded, y_test)\n",
        "print(\"Test Loss:\", loss)\n",
        "print(\"Test Accuracy:\", accuracy)"
      ],
      "metadata": {
        "colab": {
          "base_uri": "https://localhost:8080/"
        },
        "id": "o9SdjZbHnKAP",
        "outputId": "a060a8ad-6f6e-48ec-ce5d-96f644e1c8ba"
      },
      "execution_count": 73,
      "outputs": [
        {
          "output_type": "stream",
          "name": "stdout",
          "text": [
            "313/313 [==============================] - 2s 5ms/step - loss: 0.3937 - accuracy: 0.8871\n",
            "Test Loss: 0.3936682343482971\n",
            "Test Accuracy: 0.8870999813079834\n"
          ]
        }
      ]
    },
    {
      "cell_type": "code",
      "source": [
        "#Lets save the history\n",
        "import pickle\n",
        "\n",
        "with open('/content/drive/My Drive/imbd_senti_analysis_model_history.pkl', 'wb') as file:\n",
        "    pickle.dump(history, file)\n"
      ],
      "metadata": {
        "id": "V8oYwOVjpXEY"
      },
      "execution_count": 74,
      "outputs": []
    },
    {
      "cell_type": "code",
      "source": [
        "#Lets save it now\n",
        "model.save('/content/drive/My Drive/imbd_senti_analysis_model.h5')"
      ],
      "metadata": {
        "colab": {
          "base_uri": "https://localhost:8080/"
        },
        "id": "DwsFdF0FnTai",
        "outputId": "938179f7-644c-4790-e896-66ee3ea4f326"
      },
      "execution_count": 65,
      "outputs": [
        {
          "output_type": "stream",
          "name": "stderr",
          "text": [
            "/usr/local/lib/python3.10/dist-packages/keras/src/engine/training.py:3103: UserWarning: You are saving your model as an HDF5 file via `model.save()`. This file format is considered legacy. We recommend using instead the native Keras format, e.g. `model.save('my_model.keras')`.\n",
            "  saving_api.save_model(\n"
          ]
        }
      ]
    },
    {
      "cell_type": "code",
      "source": [
        "import matplotlib.pyplot as plt\n",
        "#Plotting the error\n",
        "# Plot training and validation loss and accuracy\n",
        "plt.figure(figsize=(12, 6))\n",
        "\n",
        "# Plot training loss\n",
        "plt.subplot(1, 2, 1)\n",
        "plt.plot(history.history['loss'], label='Training Loss')\n",
        "plt.plot(history.history['val_loss'], label='Validation Loss')\n",
        "plt.xlabel('Epoch')\n",
        "plt.ylabel('Loss')\n",
        "plt.title('Training and Validation Loss')\n",
        "plt.legend()\n",
        "\n",
        "# Plot training accuracy\n",
        "plt.subplot(1, 2, 2)\n",
        "plt.plot(history.history['accuracy'], label='Training Accuracy')\n",
        "plt.plot(history.history['val_accuracy'], label='Validation Accuracy')\n",
        "plt.xlabel('Epoch')\n",
        "plt.ylabel('Accuracy')\n",
        "plt.title('Training and Validation Accuracy')\n",
        "plt.legend()\n",
        "\n",
        "plt.tight_layout()\n",
        "plt.show()\n",
        "plt.savefig('/content/drive/My Drive/imbd_senti_analysis_model_history.png')"
      ],
      "metadata": {
        "colab": {
          "base_uri": "https://localhost:8080/",
          "height": 414
        },
        "id": "z65r8kxGvBnm",
        "outputId": "67ea2fe8-525b-4da6-d349-31bda3851fde"
      },
      "execution_count": 126,
      "outputs": [
        {
          "output_type": "display_data",
          "data": {
            "text/plain": [
              "<Figure size 1200x600 with 2 Axes>"
            ],
            "image/png": "[encoded data removed]"
          },
          "metadata": {}
        },
        {
          "output_type": "display_data",
          "data": {
            "text/plain": [
              "<Figure size 640x480 with 0 Axes>"
            ]
          },
          "metadata": {}
        }
      ]
    },
    {
      "cell_type": "code",
      "source": [
        "#Lets see a complete report\n",
        "from sklearn.metrics import classification_report\n",
        "y_pred = model.predict(X_test_padded)\n",
        "y_pred = (y_pred > 0.5)\n",
        "print(classification_report(y_test, y_pred))"
      ],
      "metadata": {
        "colab": {
          "base_uri": "https://localhost:8080/"
        },
        "id": "NQ0fslfHwz2i",
        "outputId": "4f992486-8edd-4965-94a2-0d237c15aa70"
      },
      "execution_count": 77,
      "outputs": [
        {
          "output_type": "stream",
          "name": "stdout",
          "text": [
            "313/313 [==============================] - 2s 4ms/step\n",
            "              precision    recall  f1-score   support\n",
            "\n",
            "           0       0.91      0.86      0.88      4961\n",
            "           1       0.87      0.91      0.89      5039\n",
            "\n",
            "    accuracy                           0.89     10000\n",
            "   macro avg       0.89      0.89      0.89     10000\n",
            "weighted avg       0.89      0.89      0.89     10000\n",
            "\n"
          ]
        }
      ]
    },
    {
      "cell_type": "code",
      "source": [
        "#Lets create a function for predicting positive, neutral and negative sentiment of a review based on the model\n",
        "def predict_sentiment(review):\n",
        "  #First preprocess and padding it\n",
        "  preprocessed_review = preprocess_text(review)\n",
        "  sequence = tokenizer.texts_to_sequences([preprocessed_review])\n",
        "  padded_sequence = pad_sequences(sequence, maxlen=max_sequence_length)\n",
        "  print(\"Review:\" ,preprocessed_review)\n",
        "\n",
        "  #Predict the sentiment\n",
        "  sentiment_prediction = model.predict(padded_sequence)\n",
        "  print(\"Prediction :\",sentiment_prediction)\n",
        "  if sentiment_prediction > 0.65:\n",
        "    return 'Positive'\n",
        "  elif sentiment_prediction < 0.40:\n",
        "    return 'Negative'\n",
        "  else:\n",
        "    return 'Mixed'\n",
        "\n",
        "\n"
      ],
      "metadata": {
        "id": "GHHiM3AkpqK0"
      },
      "execution_count": 78,
      "outputs": []
    },
    {
      "cell_type": "code",
      "source": [
        "##Now give a review\n",
        "text=\"The movie was humurous and enlightening also.\"\n",
        "print(predict_sentiment(text))"
      ],
      "metadata": {
        "colab": {
          "base_uri": "https://localhost:8080/"
        },
        "id": "GNMUDbP-qc0N",
        "outputId": "9c271bfe-2022-4044-a50d-175d9c93d016"
      },
      "execution_count": 101,
      "outputs": [
        {
          "output_type": "stream",
          "name": "stdout",
          "text": [
            "Review: the movi wa humur and enlighten also . great\n",
            "1/1 [==============================] - 0s 22ms/step\n",
            "Prediction : [[0.9932933]]\n",
            "Positive\n"
          ]
        }
      ]
    },
    {
      "cell_type": "code",
      "source": [
        "word_to_check = 'hokey'\n",
        "if word_to_check in tokenizer.word_index:\n",
        "    print(f\"'{word_to_check}' is present in the tokenizer.\")\n",
        "else:\n",
        "    print(f\"'{word_to_check}' is not present in the tokenizer.\")"
      ],
      "metadata": {
        "colab": {
          "base_uri": "https://localhost:8080/"
        },
        "id": "vbLLk7UrsKik",
        "outputId": "78096780-c00c-4ad5-d072-3a014a968497"
      },
      "execution_count": 83,
      "outputs": [
        {
          "output_type": "stream",
          "name": "stdout",
          "text": [
            "'hokey' is present in the tokenizer.\n"
          ]
        }
      ]
    },
    {
      "cell_type": "markdown",
      "source": [
        "**Making some Observations**"
      ],
      "metadata": {
        "id": "M7WQSpSC23Sa"
      }
    },
    {
      "cell_type": "code",
      "source": [
        "#Lets play with embedding just for fun\n",
        "#Lets find top 10 similar words to some given word\n",
        "word = 'what'\n",
        "processed_word=stemmer.stem(word.lower())\n",
        "print(processed_word)\n",
        "similar_words = word2vec_model.wv.most_similar(processed_word, topn=100)\n",
        "for word, similarity in similar_words:\n",
        "    print(f\"{word}: {similarity}\")\n"
      ],
      "metadata": {
        "colab": {
          "base_uri": "https://localhost:8080/"
        },
        "id": "S5Qqsj340ZYs",
        "outputId": "3e3efa0c-88fd-4fdd-943c-58382943b31d"
      },
      "execution_count": 125,
      "outputs": [
        {
          "output_type": "stream",
          "name": "stdout",
          "text": [
            "what\n",
            "how: 0.6830280423164368\n",
            "whatev: 0.644677996635437\n",
            "someth: 0.643673837184906\n",
            "whi: 0.6382807493209839\n",
            "that: 0.6214901804924011\n",
            "everyth: 0.6060041189193726\n",
            "anyth: 0.5600943565368652\n",
            "thing: 0.5372591018676758\n",
            "noth: 0.534087598323822\n",
            "whether: 0.5234477519989014\n",
            "just: 0.510444164276123\n",
            "it: 0.49610915780067444\n",
            "where: 0.4863929748535156\n",
            "murder.what: 0.4822959303855896\n",
            "actual: 0.46862170100212097\n",
            "ambasitor: 0.46301817893981934\n",
            "hermann.troubl: 0.4625317454338074\n",
            "truth: 0.4570370614528656\n",
            ".göta: 0.45457735657691956\n",
            "thi: 0.44765475392341614\n",
            "sorrowful.i: 0.4452519118785858\n",
            "right: 0.4431026875972748\n",
            "eeeee: 0.4416901171207428\n",
            "hooker.for: 0.4412281811237335\n",
            "boss/girlfriend: 0.4398457109928131\n",
            "n't: 0.4336637556552887\n",
            "becaus: 0.4331049919128418\n",
            "mislead.it: 0.43243762850761414\n",
            "other.what: 0.432273268699646\n",
            "incorrect.thi: 0.4319361746311188\n",
            "if: 0.43014851212501526\n",
            "fantasy/fairytal: 0.428427129983902\n",
            "realli: 0.4266957938671112\n",
            "sponser: 0.42647168040275574\n",
            "all: 0.4157547652721405\n",
            "soon.what: 0.40876826643943787\n",
            "truth-drug: 0.4082943797111511\n",
            "flow.a: 0.407683789730072\n",
            "bullets.what: 0.40761005878448486\n",
            "garbage-residu: 0.403260737657547\n",
            "question/scenario: 0.4032061994075775\n",
            "delightful.i: 0.40112048387527466\n",
            "theori: 0.3997630476951599\n",
            "simpli: 0.39876213669776917\n",
            "'78.it: 0.3985501229763031\n",
            "pee-woman: 0.396585613489151\n",
            "on-again/off-again: 0.39599138498306274\n",
            "?: 0.3948242962360382\n",
            "rece: 0.394438773393631\n",
            "injustic: 0.39275625348091125\n",
            "when: 0.39272207021713257\n",
            "nietsz: 0.3910583555698395\n",
            "afraid.good: 0.3901502192020416\n",
            "-oop: 0.3895595669746399\n",
            "beatles'song: 0.3893597722053528\n",
            "why.whi: 0.38882967829704285\n",
            "messag: 0.38644030690193176\n",
            "stuff: 0.38643231987953186\n",
            "heresy.i: 0.38631659746170044\n",
            "stedi-cam: 0.3857879340648651\n",
            "therefor: 0.38560405373573303\n",
            "purpos: 0.3852899968624115\n",
            "non-sequentially.th: 0.3852149546146393\n",
            "know.mi: 0.38288378715515137\n",
            "artier: 0.3827780485153198\n",
            "...: 0.38123399019241333\n",
            "apartment.what: 0.3806569278240204\n",
            "multivers: 0.38051915168762207\n",
            "which: 0.37966880202293396\n",
            "statement: 0.3780595064163208\n",
            "clearli: 0.37780866026878357\n",
            "not: 0.3777347505092621\n",
            "plus.what: 0.3776579797267914\n",
            "gloam: 0.37731900811195374\n",
            "answer: 0.3772105276584625\n",
            "i: 0.3771672248840332\n",
            "spend.rat: 0.3755912482738495\n",
            "writer/producer/director/speci: 0.3754933774471283\n",
            "sherwood-seri: 0.3741843104362488\n",
            "claims.what: 0.3741193115711212\n",
            "dame/concubin: 0.37212011218070984\n",
            "then.you: 0.37140634655952454\n",
            "'disorient: 0.37078842520713806\n",
            "so: 0.3705637454986572\n",
            "are.opinion: 0.37044376134872437\n",
            "ourselv: 0.3702990710735321\n",
            "rape.th: 0.36985498666763306\n",
            "someon: 0.3692789673805237\n",
            "event: 0.3688362240791321\n",
            "inde: 0.36851608753204346\n",
            "let: 0.36705005168914795\n",
            "copy-past: 0.3669604957103729\n",
            "nah.if: 0.3657008707523346\n",
            "opposite.sur: 0.3640913963317871\n",
            "nobodi: 0.363892138004303\n",
            "intent: 0.3633570373058319\n",
            "all:3.: 0.36332017183303833\n",
            "can'tcha: 0.3633121848106384\n",
            "dyslexia: 0.36323463916778564\n",
            "never: 0.3626166880130768\n"
          ]
        }
      ]
    }
  ]
}